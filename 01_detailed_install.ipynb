{
 "cells": [
  {
   "cell_type": "markdown",
   "metadata": {},
   "source": [
    "## Installing Neuropointillist on your local machine (for macs)\n",
    "\n",
    "Make sure you have the necessary programs and packages installed.\n",
    "\n",
    "Instructions adapted from: http://ibic.github.io/neuropointillist/installation.html\n",
    "\n",
    "Needed programs:\n",
    "* R\n",
    "* Python 2.7 or later\n",
    "* fsl (for fslmaths)\n",
    "\n",
    "Needed R packages - note that you only need to do this once on your local machine; after they have been installed, neuropointillist will be able to load them as needed:\n",
    "* argparse\n",
    "* doParallel\n",
    "* Rniftilib\n",
    "* nlme (if you're using the tutorial's model)\n",
    "* neuropointillist\n",
    "\n",
    "The simplest way to install the first 4 R packages is to open R and run the following commands:"
   ]
  },
  {
   "cell_type": "code",
   "execution_count": null,
   "metadata": {},
   "outputs": [
    {
     "name": "stderr",
     "output_type": "stream",
     "text": [
      "Updating HTML index of packages in '.Library'\n",
      "Making 'packages.html' ... done\n",
      "Updating HTML index of packages in '.Library'\n",
      "Making 'packages.html' ... done\n"
     ]
    }
   ],
   "source": [
    "install.packages(\"argparse\")\n",
    "install.packages(\"doParallel\")\n",
    "#Rniftilib must be installed from the source\n",
    "install.packages(\"http://ascopa.server4you.net/ubuntu/ubuntu/pool/universe/r/r-cran-rniftilib/r-cran-rniftilib_0.0-35.r79.orig.tar.xz\", repos=NULL)\n",
    "install.packages(\"nlme\")"
   ]
  },
  {
   "cell_type": "markdown",
   "metadata": {},
   "source": [
    "To install the neuropointillist package, you must first clone the neuropointillist repository to your local machine. To do this in Terminal, navigate to the folder you want to put the repository in and run the following:"
   ]
  },
  {
   "cell_type": "code",
   "execution_count": 14,
   "metadata": {},
   "outputs": [
    {
     "name": "stderr",
     "output_type": "stream",
     "text": [
      "fatal: destination path 'neuropointillist' already exists and is not an empty directory.\n"
     ]
    }
   ],
   "source": [
    "git clone https://github.com/IBIC/neuropointillist.git"
   ]
  },
  {
   "cell_type": "markdown",
   "metadata": {},
   "source": [
    "Then in Terminal, cd into the neuropointillist folder you just cloned. There should be yet another neuropointillist folder in this folder.\n",
    "\n",
    "Open R and run the following to install the neuropointillist package:"
   ]
  },
  {
   "cell_type": "code",
   "execution_count": 15,
   "metadata": {},
   "outputs": [
    {
     "name": "stdout",
     "output_type": "stream",
     "text": [
      "\n",
      "Error in (function (file = \"\", n = NULL, text = NULL, prompt = \"?\", keep.source = getOption(\"keep.source\"),  : \n",
      "  <text>:2:4: unexpected symbol\n",
      "1: withVisible({\n",
      "2: cd neuropointillist\n",
      "      ^\n"
     ]
    },
    {
     "name": "stderr",
     "output_type": "stream",
     "text": [
      "/Users/rosa/anaconda2/lib/python2.7/site-packages/rpy2/rinterface/__init__.py:186: RRuntimeWarning: Error in (function (file = \"\", n = NULL, text = NULL, prompt = \"?\", keep.source = getOption(\"keep.source\"),  : \n",
      "  <text>:2:4: unexpected symbol\n",
      "1: withVisible({\n",
      "2: cd neuropointillist\n",
      "      ^\n",
      "\n",
      "  warnings.warn(x, RRuntimeWarning)\n"
     ]
    }
   ],
   "source": [
    "cd neuropointillist\n",
    "install.packages(\"neuropointillist\", repos=NULL, type=\"source\")"
   ]
  },
  {
   "cell_type": "markdown",
   "metadata": {},
   "source": [
    "Now your computer should be set up to run neuropointillist!"
   ]
  }
 ],
 "metadata": {
  "kernelspec": {
   "display_name": "R",
   "language": "R",
   "name": "ir"
  },
  "language_info": {
   "codemirror_mode": "r",
   "file_extension": ".r",
   "mimetype": "text/x-r-source",
   "name": "R",
   "pygments_lexer": "r",
   "version": "3.4.3"
  }
 },
 "nbformat": 4,
 "nbformat_minor": 2
}
