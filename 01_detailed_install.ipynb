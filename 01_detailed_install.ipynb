{
 "cells": [
  {
   "cell_type": "markdown",
   "metadata": {},
   "source": [
    "## Installing Neuropointillist on your local machine (for macs)\n",
    "\n",
    "Make sure you have the necessary programs and packages installed.\n",
    "\n",
    "Instructions adapted from: http://ibic.github.io/neuropointillist/installation.html\n",
    "\n",
    "Needed programs:\n",
    "* R\n",
    "* Python 2.7 or later\n",
    "* fsl (for fslmaths)\n",
    "\n",
    "Needed R packages - note that you only need to do this once on your local machine; after they have been installed, neuropointillist will be able to load them as needed:\n",
    "* argparse\n",
    "* doParallel\n",
    "* Rniftilib\n",
    "* nlme (if you're using the tutorial's model)\n",
    "* neuropointillist\n",
    "\n",
    "The simplest way to install the first 4 R packages is to open R and run the following commands:"
   ]
  },
  {
   "cell_type": "code",
   "execution_count": 7,
   "metadata": {},
   "outputs": [
    {
     "name": "stderr",
     "output_type": "stream",
     "text": [
      "Updating HTML index of packages in '.Library'\n",
      "Making 'packages.html' ... done\n",
      "Updating HTML index of packages in '.Library'\n",
      "Making 'packages.html' ... done\n",
      "Updating HTML index of packages in '.Library'\n",
      "Making 'packages.html' ... done\n"
     ]
    }
   ],
   "source": [
    "install.packages(\"argparse\")\n",
    "install.packages(\"doParallel\")\n",
    "#Rniftilib must be installed from the source\n",
    "install.packages(\"http://ascopa.server4you.net/ubuntu/ubuntu/pool/universe/r/r-cran-rniftilib/r-cran-rniftilib_0.0-35.r79.orig.tar.xz\", repos=NULL)\n",
    "install.packages(\"nlme\")"
   ]
  },
  {
   "cell_type": "markdown",
   "metadata": {},
   "source": [
    "To install the neuropointillist package, you must first clone the neuropointillist repository to your local machine. To do this in Terminal, navigate to the folder you want to put the repository in and run the following:"
   ]
  },
  {
   "cell_type": "code",
   "execution_count": 1,
   "metadata": {},
   "outputs": [
    {
     "ename": "ERROR",
     "evalue": "Error in parse(text = x, srcfile = src): <text>:1:1: unexpected SPECIAL\n1: %%\n    ^\n",
     "execution_count": 1,
     "output_type": "error",
     "traceback": [
      "Error in parse(text = x, srcfile = src): <text>:1:1: unexpected SPECIAL\n1: %%\n    ^\nTraceback:\n"
     ]
    }
   ],
   "source": [
    "%%bash\n",
    "#halp this doesn't work in the notebook\n",
    "\n",
    "git clone https://github.com/IBIC/neuropointillist.git"
   ]
  },
  {
   "cell_type": "markdown",
   "metadata": {},
   "source": [
    "Then in Terminal, cd into the neuropointillist folder you just cloned. There should be yet another neuropointillist folder in this folder.\n",
    "\n",
    "Open R and run the following to install the neuropointillist package:"
   ]
  },
  {
   "cell_type": "code",
   "execution_count": 11,
   "metadata": {},
   "outputs": [
    {
     "ename": "ERROR",
     "evalue": "Error in parse(text = x, srcfile = src): <text>:1:4: unexpected symbol\n1: cd neuropointillist\n       ^\n",
     "output_type": "error",
     "traceback": [
      "Error in parse(text = x, srcfile = src): <text>:1:4: unexpected symbol\n1: cd neuropointillist\n       ^\nTraceback:\n"
     ]
    }
   ],
   "source": [
    "cd neuropointillist\n",
    "install.packages(\"neuropointillist\", repos=NULL, type=\"source\")"
   ]
  },
  {
   "cell_type": "markdown",
   "metadata": {},
   "source": [
    "Now your computer should be set up to run neuropointillist!"
   ]
  }
 ],
 "metadata": {
  "kernelspec": {
   "display_name": "Python 2",
   "language": "python",
   "name": "python2"
  },
  "language_info": {
   "codemirror_mode": {
    "name": "ipython",
    "version": 2
   },
   "file_extension": ".py",
   "mimetype": "text/x-python",
   "name": "python",
   "nbconvert_exporter": "python",
   "pygments_lexer": "ipython2",
   "version": "2.7.14"
  }
 },
 "nbformat": 4,
 "nbformat_minor": 2
}
