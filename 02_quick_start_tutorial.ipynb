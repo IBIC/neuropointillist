{
 "cells": [
  {
   "cell_type": "markdown",
   "metadata": {},
   "source": [
    "### Neuropointillist quick start tutorial \n",
    "\n",
    "Adapted from http://ibic.github.io/neuropointillist/\n",
    "\n",
    "While the Neuropointillist code is mostly in R, you will interact with its functions through the Terminal using bash. \n",
    "\n",
    "First, let's check that the code works with the tutorial's quickstart dataset. Then, we will discuss how to edit the example scripts to work wth your own data and run your own models. \n",
    "\n",
    "Open up the terminal and run the below code, replacing <PATH> with whatever folder you cloned the neuropointillist repository into (note that this is the main neuropointillist folder, which will itself contain a neuropointillist folder. You want the higher neuropointillist folder in your path). This adds the neuropointillist repository to your path so that you can use its functions anywhere. \n",
    "\n",
    "export PATH=$PATH:<PATH>/neuropointillist\n",
    "\n",
    "If you are already in the folder containing the neuropointillist repository (again the higher neuropointillist folder that contains its own neuropointillist folder), you can run the following to set up your path: "
   ]
  },
  {
   "cell_type": "code",
   "execution_count": 2,
   "metadata": {},
   "outputs": [
    {
     "ename": "ERROR",
     "evalue": "Error in parse(text = x, srcfile = src): <text>:1:1: unexpected SPECIAL\n1: %%\n    ^\n",
     "execution_count": 2,
     "output_type": "error",
     "traceback": [
      "Error in parse(text = x, srcfile = src): <text>:1:1: unexpected SPECIAL\n1: %%\n    ^\nTraceback:\n"
     ]
    }
   ],
   "source": [
    "export PATH=$PATH:`pwd`/neuropointillist"
   ]
  },
  {
   "cell_type": "markdown",
   "metadata": {},
   "source": [
    "To continue with the tutorial, enter the neuropointillist/example.rawfmri folder:"
   ]
  },
  {
   "cell_type": "code",
   "execution_count": null,
   "metadata": {},
   "outputs": [],
   "source": [
    "cd neuropointillist/example.rawfmri/\n",
    "ls"
   ]
  },
  {
   "cell_type": "markdown",
   "metadata": {},
   "source": [
    "\n",
    "\n",
    "From this folder, run npoint to generate the jobs for the example data\n",
    "\n",
    "*need to better explain wtf this does*"
   ]
  },
  {
   "cell_type": "code",
   "execution_count": null,
   "metadata": {},
   "outputs": [],
   "source": [
    "npoint"
   ]
  },
  {
   "cell_type": "markdown",
   "metadata": {},
   "source": [
    "This will generate a folder called sgedata. Enter this folder and check its contents."
   ]
  },
  {
   "cell_type": "code",
   "execution_count": null,
   "metadata": {},
   "outputs": [],
   "source": [
    "cd sgedata\n",
    "ls"
   ]
  },
  {
   "cell_type": "markdown",
   "metadata": {},
   "source": [
    "*Stuff here about what each file does, why they're split up, etc. *\n",
    "\n",
    "Once you're satisfied with your parameters, you can run neuropointillist using either runme.local (locally) or runme.sge (over an sge cluster).\n",
    "\n",
    "You may have to first change the permissions for the runme files. This example will use runme.local."
   ]
  },
  {
   "cell_type": "code",
   "execution_count": null,
   "metadata": {
    "collapsed": true
   },
   "outputs": [],
   "source": [
    "#give yourself execute permisssions\n",
    "chmod +x ./runme.local\n",
    "./runme.local"
   ]
  },
  {
   "cell_type": "markdown",
   "metadata": {},
   "source": [
    "Once npoint is finally done running (this may take multiple hours?), your sgedata folder will have new model output niftis!\n",
    "\n",
    "Because the code splits the brain up into multiple, smaller sections to parallelize the model fits, we have to use npointmerge to piece them back together into a whole brain. The syntax for this is:\n",
    "\n",
    "npointmerge <output> <input_file_list>\n",
    "    \n",
    "For the tutorial files, there are four nifti brains to rebuild. Note that the wildcard operator * will pull your input_file_list together for you. "
   ]
  },
  {
   "cell_type": "code",
   "execution_count": 12,
   "metadata": {},
   "outputs": [
    {
     "ename": "ERROR",
     "evalue": "Error in parse(text = x, srcfile = src): <text>:1:13: unexpected symbol\n1: npointmerge sim.p\n                ^\n",
     "output_type": "error",
     "traceback": [
      "Error in parse(text = x, srcfile = src): <text>:1:13: unexpected symbol\n1: npointmerge sim.p\n                ^\nTraceback:\n"
     ]
    }
   ],
   "source": [
    "npointmerge sim.p-High.gt.Low.nii.gz sim.*p-High.gt.Low.nii.gz\n",
    "npointmerge sim.tstat-High.gt.Low.nii.gz sim.*tstat-High.gt.Low.nii.gz\n",
    "npointmerge sim.tstat-High.nii.gz sim.*tstat-High.nii.gz\n",
    "npointmerge sim.tstat-Low.nii.gz sim.*tstat-Low.nii.gz\n"
   ]
  }
 ],
 "metadata": {
  "kernelspec": {
   "display_name": "R",
   "language": "R",
   "name": "ir"
  },
  "language_info": {
   "codemirror_mode": "r",
   "file_extension": ".r",
   "mimetype": "text/x-r-source",
   "name": "R",
   "pygments_lexer": "r",
   "version": "3.4.3"
  }
 },
 "nbformat": 4,
 "nbformat_minor": 2
}
