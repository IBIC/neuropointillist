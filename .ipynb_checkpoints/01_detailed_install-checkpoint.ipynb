{
 "cells": [
  {
   "cell_type": "markdown",
   "metadata": {},
   "source": [
    "## Installing Neuropointillist on your local machine (for macs)\n",
    "\n",
    "Make sure you have the necessary programs and packages installed.\n",
    "\n",
    "Instructions adapted from: http://ibic.github.io/neuropointillist/installation.html\n",
    "\n",
    "Needed programs:\n",
    "* R\n",
    "* Python 2.7 or later\n",
    "\n",
    "Note that you only need to install the Python and R packages once on your local machine; after they have been installed, neuropointillist will be able to load them as needed:\n",
    "\n",
    "Needed python packages\n",
    "* argparse (for R's argparse package)\n",
    "* json (for R's argparse package)\n",
    "* nibabel\n",
    "\n",
    "The simplest way to install python packages is through pip ([instructions for download here](https://pip.pypa.io/en/stable/); note that pip installs automatically with [Anaconda/miniconda](https://conda.io/docs/user-guide/install/index.html)):"
   ]
  },
  {
   "cell_type": "markdown",
   "metadata": {},
   "source": [
    "Needed R packages\n",
    "* argparse\n",
    "* doParallel\n",
    "* Rniftilib\n",
    "* nlme (if you're using the tutorial's model)\n",
    "* neuropointillist\n",
    "\n",
    "The simplest way to install the first 4 R packages is to open R and run the following commands:"
   ]
  },
  {
   "cell_type": "markdown",
   "metadata": {},
   "source": [
    "```\n",
    "install.packages(\"argparse\")\n",
    "install.packages(\"doParallel\")\n",
    "#Rniftilib must be installed from the source\n",
    "install.packages(\"http://ascopa.server4you.net/ubuntu/ubuntu/pool/universe/r/r-cran-rniftilib/r-cran-rniftilib_0.0-35.r79.orig.tar.xz\", repos=NULL)\n",
    "install.packages(\"nlme\")\n",
    "```"
   ]
  },
  {
   "cell_type": "markdown",
   "metadata": {},
   "source": [
    "To install the neuropointillist package, you must first clone the neuropointillist repository to your local machine. To do this in Terminal, navigate to the folder you want to put the repository in and run the following:"
   ]
  },
  {
   "cell_type": "markdown",
   "metadata": {},
   "source": [
    "`git clone https://github.com/IBIC/neuropointillist.git`"
   ]
  },
  {
   "cell_type": "markdown",
   "metadata": {},
   "source": [
    "Then in Terminal, cd into the neuropointillist folder you just cloned. There should be yet another neuropointillist folder in this folder. Make sure you're in the first neuropointillist folder but not the second. In other words, if the folder structure looks like ~/Desktop/neuropointillist/neuropointillist, you should be in ~/Desktop/neuropointillist\n",
    "\n",
    "Open R and run the following to install the neuropointillist package:"
   ]
  },
  {
   "cell_type": "markdown",
   "metadata": {},
   "source": [
    "`install.packages(\"neuropointillist\", repos=NULL, type=\"source\")`"
   ]
  },
  {
   "cell_type": "markdown",
   "metadata": {},
   "source": [
    "Now your computer should be set up to run neuropointillist!"
   ]
  }
 ],
 "metadata": {
  "kernelspec": {
   "display_name": "R",
   "language": "R",
   "name": "ir"
  },
  "language_info": {
   "codemirror_mode": "r",
   "file_extension": ".r",
   "mimetype": "text/x-r-source",
   "name": "R",
   "pygments_lexer": "r",
   "version": "3.4.3"
  }
 },
 "nbformat": 4,
 "nbformat_minor": 2
}
