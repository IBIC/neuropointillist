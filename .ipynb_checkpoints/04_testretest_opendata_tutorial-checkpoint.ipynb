{
 "cells": [
  {
   "cell_type": "markdown",
   "metadata": {},
   "source": [
    "## Tutorial for running Neuropointillist on preprocessed fMRI data\n",
    "\n",
    "### Downloading the data\n",
    "\n",
    "This tutorial uses a subset of the freely available dataset from [Gorgolewski et al., 2013](https://www.ncbi.nlm.nih.gov/pmc/articles/PMC3641991/), available from [OpenNeuro](https://openneuro.org/datasets/ds000114/versions/00001).  \n",
    "\n",
    "The full dataset has 10 subjects at 2 timepoints (test and retest) completing 1 run each of 5 different tasks. To save processing time, we will just use 4 subs (sub-01 through sub-04) and 1 task (overtwordrepetition) at both timepoints. \n",
    "\n",
    "We also want to use the data that has already been preprocessed using fmriprep. To see these files from [v0001 of the data on OpenNeuro](https://openneuro.org/datasets/ds000114/versions/00001), click on FMRIPREP (under Analyses on the right side of the screen), poldracklab/fmriprep:0.5.4 - #9, Results, fmriprep. \n",
    "\n",
    "Below are the example files we'll use for just sub-01. Pull the same set of files for sub-02, sub-03, and sub-04, so you'll end up with 16 nifti files in total. You can download each file manually by clicking on its download button.\n",
    "* sub-01/ses-retest/func/sub-01_ses-retest_task-overtwordrepetition_bold_space-MNI152NLin2009cAsym_brainmask.nii.gz\n",
    "* sub-01/ses-retest/func/sub-01_ses-retest_task-overtwordrepetition_bold_space-MNI152NLin2009cAsym_preproc.nii.gz\n",
    "* sub-01/ses-test/func/sub-01_ses-test_task-overtwordrepetition_bold_space-MNI152NLin2009cAsym_brainmask.nii.gz\n",
    "* sub-01/ses-test/func/sub-01_ses-test_task-overtwordrepetition_bold_space-MNI152NLin2009cAsym_preproc.nii.gz\n",
    "\n",
    "Alternatively, if you have the time and diskspace to download the full dataset, you can just click the DOWNLOAD ALL button, or you can use [Amazon's command line interface](https://aws.amazon.com/cli/) (if not already installed: pip install awscli):\n",
    "\n",
    "    aws --no-sign-request s3 sync s3://openneuro.outputs/a243dd176d50b0973d013a5a7569787c/db81c46c-1908-4bfd-85b3-9fa1284093ab destination-directory"
   ]
  },
  {
   "cell_type": "markdown",
   "metadata": {},
   "source": [
    "To fit the file structure expected by the tutorial, make sure you're in the example.testretest folder of the main neuropointillist repository. \n",
    "\n",
    "The 8 ..._preproc.nii.gz files that you downloaded are the preprocessed functional data. Place these in a folder in example.testretest called fmri_data, so that your data fit the below folder structure:\n",
    "\n",
    "    .../neuropointillist/example.testretest/fmri_data/sub-##_..._preproc.nii.gz\n",
    "\n",
    "The 8 ..._brainmask.nii.gz files are the individual runs' brain mask files. Place these in a folder in example.testretest called indiv_masks, so that your data fit the below folder strucutre. \n",
    "\n",
    "    .../neuropointillist/example.testretest/indiv_masks/sub-##_..._brainmask.nii.gz\n"
   ]
  },
  {
   "cell_type": "markdown",
   "metadata": {},
   "source": [
    "### Creating your shared mask\n",
    "\n",
    "PLACEHOLDER? "
   ]
  },
  {
   "cell_type": "code",
   "execution_count": null,
   "metadata": {},
   "outputs": [],
   "source": []
  }
 ],
 "metadata": {
  "kernelspec": {
   "display_name": "Python 2",
   "language": "python",
   "name": "python2"
  },
  "language_info": {
   "codemirror_mode": {
    "name": "ipython",
    "version": 2
   },
   "file_extension": ".py",
   "mimetype": "text/x-python",
   "name": "python",
   "nbconvert_exporter": "python",
   "pygments_lexer": "ipython2",
   "version": "2.7.14"
  }
 },
 "nbformat": 4,
 "nbformat_minor": 2
}
