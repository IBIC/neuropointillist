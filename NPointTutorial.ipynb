{
 "cells": [
  {
   "cell_type": "markdown",
   "metadata": {},
   "source": [
    "## Running Neuropointillist on your local machine (for macs)\n",
    "\n",
    "### First, make sure you have the necessary programs and packages installed.\n",
    "\n",
    "Instructions adapted from: http://ibic.github.io/neuropointillist/installation.html\n",
    "\n",
    "Needed programs:\n",
    "* R\n",
    "* Python 2.7 or later\n",
    "* fsl (for fslmaths)\n",
    "\n",
    "Needed R packages - note that you only need to do this once on your local machine; after they have been installed, neuropointillist will be able to load them as needed:\n",
    "* argparse\n",
    "* doParallel\n",
    "* Rniftilib\n",
    "* nlme (if you're using the tutorial's model)\n",
    "* neuropointillist\n",
    "\n",
    "The simplest way to install the first 4 R packages is to open R and run the following commands:"
   ]
  },
  {
   "cell_type": "code",
   "execution_count": 7,
   "metadata": {},
   "outputs": [
    {
     "name": "stderr",
     "output_type": "stream",
     "text": [
      "Updating HTML index of packages in '.Library'\n",
      "Making 'packages.html' ... done\n",
      "Updating HTML index of packages in '.Library'\n",
      "Making 'packages.html' ... done\n",
      "Updating HTML index of packages in '.Library'\n",
      "Making 'packages.html' ... done\n"
     ]
    }
   ],
   "source": [
    "install.packages(\"argparse\")\n",
    "install.packages(\"doParallel\")\n",
    "#Rniftilib must be installed from the source\n",
    "install.packages(\"http://ascopa.server4you.net/ubuntu/ubuntu/pool/universe/r/r-cran-rniftilib/r-cran-rniftilib_0.0-35.r79.orig.tar.xz\", repos=NULL)\n",
    "install.packages(\"nlme\")"
   ]
  },
  {
   "cell_type": "markdown",
   "metadata": {},
   "source": [
    "To install the neuropointillist package, you must first clone the neuropointillist repository to your local machine. To this in Terminal, navigate to the folder you want to put the repository in, and run the following:"
   ]
  },
  {
   "cell_type": "code",
   "execution_count": 10,
   "metadata": {},
   "outputs": [
    {
     "ename": "ERROR",
     "evalue": "Error in parse(text = x, srcfile = src): <text>:1:1: unexpected SPECIAL\n1: %%\n    ^\n",
     "output_type": "error",
     "traceback": [
      "Error in parse(text = x, srcfile = src): <text>:1:1: unexpected SPECIAL\n1: %%\n    ^\nTraceback:\n"
     ]
    }
   ],
   "source": [
    "%%bash\n",
    "\n",
    "#halp this doesn't work \n",
    "git clone https://github.com/IBIC/neuropointillist.git"
   ]
  },
  {
   "cell_type": "markdown",
   "metadata": {},
   "source": [
    "Then in Terminal, cd into the neuropointillist folder you just cloned. Open R and run the following to install the neuropointillist package:"
   ]
  },
  {
   "cell_type": "code",
   "execution_count": 11,
   "metadata": {},
   "outputs": [
    {
     "ename": "ERROR",
     "evalue": "Error in parse(text = x, srcfile = src): <text>:1:4: unexpected symbol\n1: cd neuropointillist\n       ^\n",
     "output_type": "error",
     "traceback": [
      "Error in parse(text = x, srcfile = src): <text>:1:4: unexpected symbol\n1: cd neuropointillist\n       ^\nTraceback:\n"
     ]
    }
   ],
   "source": [
    "cd neuropointillist\n",
    "install.packages(\"neuropointillist\", repos=NULL, type=\"source\")"
   ]
  },
  {
   "cell_type": "markdown",
   "metadata": {},
   "source": [
    "Now your computer should be set up to run neuropointillist!"
   ]
  },
  {
   "cell_type": "markdown",
   "metadata": {},
   "source": [
    "### Neuropointillist quick start tutorial from http://ibic.github.io/neuropointillist/\n",
    "\n",
    "While the Neuropointillist code is mostly in R, you will interact with its functions through the Terminal using bash. \n",
    "\n",
    "First, let's check that the code works with the tutorial's quickstart dataset. Then, we will discuss how to edit the example scripts to work wth your own data and run your own models. \n",
    "\n",
    "Open up the terminal and run the below code, replacing <PATH> with whatever folder you cloned the neuropointillist repository to (note that this is the main neuropointillist folder, which will itself contain a neuropointillist folder. You want the higher neuropointillist folder in your path). This adds the neuropointillist repository to your path so that you can use its functions anywhere. \n",
    "\n",
    "export PATH=$PATH:<PATH>/neuropointillist\n",
    "\n",
    "If you are already in the folder containing the neuropointillist repository (again the higher neuropointillist folder that contains its own neuropointillist folder), you can instead run the following to set up your path: "
   ]
  },
  {
   "cell_type": "code",
   "execution_count": null,
   "metadata": {},
   "outputs": [],
   "source": [
    "export PATH=$PATH:`pwd`/neuropointillist"
   ]
  },
  {
   "cell_type": "markdown",
   "metadata": {},
   "source": [
    "To continue with the tutorial, enter the neuropointillist/example.rawfmri folder:"
   ]
  },
  {
   "cell_type": "code",
   "execution_count": null,
   "metadata": {},
   "outputs": [],
   "source": [
    "cd neuropointillist/example.rawfmri/"
   ]
  },
  {
   "cell_type": "markdown",
   "metadata": {},
   "source": [
    "From this folder, run npoint to generate the jobs for the example data\n",
    "\n",
    "*need to better explain wtf this does*"
   ]
  },
  {
   "cell_type": "code",
   "execution_count": null,
   "metadata": {},
   "outputs": [],
   "source": [
    "npoint"
   ]
  },
  {
   "cell_type": "markdown",
   "metadata": {},
   "source": [
    "This will generate a folder called sgedata. Enter this folder and check its contents."
   ]
  },
  {
   "cell_type": "code",
   "execution_count": null,
   "metadata": {},
   "outputs": [],
   "source": [
    "cd sgedata\n",
    "ls"
   ]
  },
  {
   "cell_type": "markdown",
   "metadata": {},
   "source": [
    "*Stuff here about what each file does, why they're split up, etc. *\n",
    "\n",
    "Once you're satisfied with your parameters, you can run neuropointillist using either runme.local (locally) or runme.sge (over an sge cluster).\n",
    "\n",
    "You may have to first change the permissions for the runme files. This example will use runme.local."
   ]
  },
  {
   "cell_type": "code",
   "execution_count": null,
   "metadata": {
    "collapsed": true
   },
   "outputs": [],
   "source": [
    "#give yourself execute permisssions\n",
    "chmod +x ./runme.local\n",
    "./runme.local"
   ]
  },
  {
   "cell_type": "markdown",
   "metadata": {},
   "source": [
    "Once npoint is finally done running (this may take multiple hours?), your sgedata folder will have new model output niftis!\n",
    "\n",
    "Because the code splits the brain up into multiple, smaller sections to parallelize the model fits, we have to use npointmerge to piece them back together into a whole brain. The syntax for this is:\n",
    "\n",
    "npointmerge <output> <input_file_list>\n",
    "    \n",
    "For the tutorial files, there are four nifti brains to rebuild. Note that the wildcard operator * will pull your input_file_list together for you. "
   ]
  },
  {
   "cell_type": "code",
   "execution_count": 12,
   "metadata": {},
   "outputs": [
    {
     "ename": "ERROR",
     "evalue": "Error in parse(text = x, srcfile = src): <text>:1:13: unexpected symbol\n1: npointmerge sim.p\n                ^\n",
     "output_type": "error",
     "traceback": [
      "Error in parse(text = x, srcfile = src): <text>:1:13: unexpected symbol\n1: npointmerge sim.p\n                ^\nTraceback:\n"
     ]
    }
   ],
   "source": [
    "npointmerge sim.p-High.gt.Low.nii.gz sim.*p-High.gt.Low.nii.gz\n",
    "npointmerge sim.tstat-High.gt.Low.nii.gz sim.*tstat-High.gt.Low.nii.gz\n",
    "npointmerge sim.tstat-High.nii.gz sim.*tstat-High.nii.gz\n",
    "npointmerge sim.tstat-Low.nii.gz sim.*tstat-Low.nii.gz\n"
   ]
  }
 ],
 "metadata": {
  "kernelspec": {
   "display_name": "R",
   "language": "R",
   "name": "ir"
  },
  "language_info": {
   "codemirror_mode": "r",
   "file_extension": ".r",
   "mimetype": "text/x-r-source",
   "name": "R",
   "pygments_lexer": "r",
   "version": "3.4.3"
  }
 },
 "nbformat": 4,
 "nbformat_minor": 2
}
